{
 "cells": [
  {
   "cell_type": "markdown",
   "metadata": {},
   "source": "# A2A Protocol Quick Start - Interactive Testing\n\nThis notebook helps you test the A2A (Agent-to-Agent) Protocol implementation.\n\n**Default**: Tests against `https://colinmcnamara.com` (working implementation)  \n**Custom**: Change `SITE_URL` to test your own site"
  },
  {
   "cell_type": "markdown",
   "metadata": {},
   "source": [
    "## Step 1: Install Dependencies"
   ]
  },
  {
   "cell_type": "code",
   "execution_count": null,
   "metadata": {},
   "outputs": [],
   "source": [
    "# Install required packages\n",
    "import sys\n",
    "!{sys.executable} -m pip install -q requests tabulate"
   ]
  },
  {
   "cell_type": "markdown",
   "metadata": {},
   "source": [
    "## Step 2: Import Libraries"
   ]
  },
  {
   "cell_type": "code",
   "execution_count": null,
   "metadata": {},
   "outputs": [],
   "source": [
    "import requests\n",
    "import json\n",
    "import time\n",
    "from datetime import datetime\n",
    "from typing import Dict, Any, Optional, List\n",
    "from tabulate import tabulate\n",
    "from IPython.display import display, Markdown\n",
    "import os"
   ]
  },
  {
   "cell_type": "markdown",
   "metadata": {},
   "source": [
    "## Step 3: Create A2A Test Client"
   ]
  },
  {
   "cell_type": "code",
   "execution_count": null,
   "metadata": {},
   "outputs": [],
   "source": [
    "class A2AClient:\n",
    "    \"\"\"Simple A2A Protocol client for testing - supports both single and multi-endpoint setups\"\"\"\n",
    "    \n",
    "    def __init__(self, base_url: str):\n",
    "        self.base_url = base_url.rstrip('/')\n",
    "        self.agent_card_url = f\"{self.base_url}/.well-known/agent.json\"\n",
    "        self.service_url = f\"{self.base_url}/api/a2a/service\"\n",
    "        self.request_id = 0\n",
    "        self.service_endpoints = None  # Will be populated from agent card\n",
    "        \n",
    "    def get_agent_card(self) -> Dict[str, Any]:\n",
    "        \"\"\"Fetch the agent card\"\"\"\n",
    "        try:\n",
    "            response = requests.get(self.agent_card_url, timeout=10)\n",
    "            response.raise_for_status()\n",
    "            card = response.json()\n",
    "            \n",
    "            # Extract service endpoints if available\n",
    "            if \"serviceEndpoints\" in card:\n",
    "                self.service_endpoints = card[\"serviceEndpoints\"]\n",
    "                print(\"✅ Multi-endpoint setup detected\")\n",
    "            else:\n",
    "                print(\"ℹ️  Single endpoint setup detected\")\n",
    "                \n",
    "            return card\n",
    "        except Exception as e:\n",
    "            return {\"error\": str(e)}\n",
    "    \n",
    "    def call_method(self, method: str, params: Optional[Dict] = None) -> Dict[str, Any]:\n",
    "        \"\"\"Call an A2A method - supports both single and multi-endpoint setups\"\"\"\n",
    "        self.request_id += 1\n",
    "        \n",
    "        # Determine endpoint URL\n",
    "        endpoint_url = self.service_url  # Default to single endpoint\n",
    "        \n",
    "        # Check if we have multi-endpoint setup\n",
    "        if self.service_endpoints and method in self.service_endpoints:\n",
    "            endpoint_url = f\"{self.base_url}{self.service_endpoints[method]}\"\n",
    "            print(f\"→ Using endpoint: {endpoint_url}\")\n",
    "        \n",
    "        payload = {\n",
    "            \"jsonrpc\": \"2.0\",\n",
    "            \"id\": self.request_id\n",
    "        }\n",
    "        \n",
    "        # For multi-endpoint setup, we don't include the method in the payload\n",
    "        if not self.service_endpoints or method not in self.service_endpoints:\n",
    "            payload[\"method\"] = method\n",
    "            \n",
    "        if params:\n",
    "            payload[\"params\"] = params\n",
    "            \n",
    "        try:\n",
    "            response = requests.post(\n",
    "                endpoint_url,\n",
    "                json=payload,\n",
    "                headers={\"Content-Type\": \"application/json\"},\n",
    "                timeout=10\n",
    "            )\n",
    "            return response.json()\n",
    "        except Exception as e:\n",
    "            return {\"error\": str(e)}\n",
    "\n",
    "print(\"✅ A2A Client created with multi-endpoint support!\")"
   ]
  },
  {
   "cell_type": "markdown",
   "metadata": {},
   "source": [
    "## Step 4: Configure Test Site"
   ]
  },
  {
   "cell_type": "code",
   "execution_count": null,
   "metadata": {},
   "outputs": [],
   "source": "# Configure your site URL\nSITE_URL = \"https://colinmcnamara.com\"  # Default: working A2A implementation\n\n# To test your own site, uncomment and modify:\n# SITE_URL = \"https://yourdomain.com\"\n# SITE_URL = \"http://localhost:4321\"\n\n# Create client\nclient = A2AClient(SITE_URL)\nprint(f\"Testing A2A at: {SITE_URL}\")"
  },
  {
   "cell_type": "markdown",
   "metadata": {},
   "source": [
    "## Step 5: Test Agent Card Discovery"
   ]
  },
  {
   "cell_type": "code",
   "execution_count": null,
   "metadata": {},
   "outputs": [],
   "source": [
    "print(\"🔍 Testing agent card discovery...\\n\")\n",
    "agent_card = client.get_agent_card()\n",
    "\n",
    "if \"error\" not in agent_card:\n",
    "    print(\"✅ Agent Card Found!\\n\")\n",
    "    \n",
    "    # Extract capabilities/skills\n",
    "    capabilities = []\n",
    "    if \"capabilities\" in agent_card:\n",
    "        capabilities = agent_card[\"capabilities\"]\n",
    "    elif \"skills\" in agent_card:\n",
    "        capabilities = [skill.get(\"method\", skill.get(\"id\", \"?\")) for skill in agent_card[\"skills\"]]\n",
    "    \n",
    "    # Display info\n",
    "    info = [\n",
    "        [\"Name\", agent_card.get(\"name\", \"N/A\")],\n",
    "        [\"Version\", agent_card.get(\"version\", \"N/A\")],\n",
    "        [\"Methods\", len(capabilities)],\n",
    "        [\"Protocol\", agent_card.get(\"protocol\", \"N/A\")],\n",
    "    ]\n",
    "    print(tabulate(info, headers=[\"Property\", \"Value\"], tablefmt=\"grid\"))\n",
    "    \n",
    "    if capabilities:\n",
    "        print(\"\\nAvailable methods:\")\n",
    "        for cap in capabilities:\n",
    "            print(f\"  • {cap}\")\n",
    "            \n",
    "    # Show service endpoints if available\n",
    "    if \"serviceEndpoints\" in agent_card:\n",
    "        print(\"\\nService Endpoints (Multi-endpoint setup):\")\n",
    "        for method, endpoint in agent_card[\"serviceEndpoints\"].items():\n",
    "            print(f\"  • {method:<25} → {endpoint}\")\n",
    "    else:\n",
    "        print(f\"\\nSingle Service Endpoint: {client.service_url}\")\n",
    "else:\n",
    "    print(f\"❌ Error: {agent_card['error']}\")"
   ]
  },
  {
   "cell_type": "markdown",
   "metadata": {},
   "source": [
    "## Step 6: Test Blog Metadata"
   ]
  },
  {
   "cell_type": "code",
   "execution_count": null,
   "metadata": {},
   "outputs": [],
   "source": [
    "print(\"\\n📊 Testing blog metadata...\\n\")\n",
    "\n",
    "# Test the metadata endpoint\n",
    "response = client.call_method(\"blog.get_metadata\")\n",
    "\n",
    "if \"result\" in response:\n",
    "    metadata = response[\"result\"]\n",
    "    print(\"✅ Blog Metadata Retrieved!\\n\")\n",
    "    \n",
    "    # Display blog metadata\n",
    "    info = [\n",
    "        [\"Name\", metadata.get(\"name\", \"N/A\")],\n",
    "        [\"Description\", metadata.get(\"description\", \"N/A\")[:50] + \"...\" if metadata.get(\"description\") else \"N/A\"],\n",
    "        [\"URL\", metadata.get(\"url\", \"N/A\")],\n",
    "        [\"Language\", metadata.get(\"language\", \"N/A\")],\n",
    "        [\"Total Posts\", metadata.get(\"totalPosts\", \"N/A\")],\n",
    "        [\"Total Words\", f\"{metadata.get('totalWords', 0):,}\" if metadata.get('totalWords') else \"N/A\"],\n",
    "    ]\n",
    "    print(tabulate(info, headers=[\"Property\", \"Value\"], tablefmt=\"grid\"))\n",
    "    \n",
    "    # Display author info if included\n",
    "    if \"author\" in metadata:\n",
    "        author = metadata[\"author\"]\n",
    "        print(\"\\n👤 Author Information:\\n\")\n",
    "        auth_info = [\n",
    "            [\"Name\", author.get(\"name\", \"N/A\")],\n",
    "            [\"Email\", author.get(\"email\", \"N/A\")],\n",
    "            [\"Bio\", author.get(\"bio\", \"N/A\")[:50] + \"...\" if author.get(\"bio\") else \"N/A\"],\n",
    "        ]\n",
    "        print(tabulate(auth_info, headers=[\"Property\", \"Value\"], tablefmt=\"grid\"))\n",
    "else:\n",
    "    print(f\"❌ Error: {response.get('error', 'Unknown error')}\")\n",
    "    \n",
    "# Test the separate author endpoint if available\n",
    "print(\"\\n👤 Testing author info endpoint...\\n\")\n",
    "author_response = client.call_method(\"blog.get_author_info\")\n",
    "\n",
    "if \"result\" in author_response:\n",
    "    author = author_response[\"result\"]\n",
    "    print(\"✅ Author Info Retrieved!\\n\")\n",
    "    \n",
    "    auth_info = [\n",
    "        [\"Name\", author.get(\"name\", \"N/A\")],\n",
    "        [\"Email\", author.get(\"email\", \"N/A\")],\n",
    "        [\"Bio\", author.get(\"bio\", \"N/A\")[:80] + \"...\" if len(author.get(\"bio\", \"\")) > 80 else author.get(\"bio\", \"N/A\")],\n",
    "    ]\n",
    "    print(tabulate(auth_info, headers=[\"Property\", \"Value\"], tablefmt=\"grid\"))\n",
    "    \n",
    "    if \"social\" in author:\n",
    "        print(\"\\n🔗 Social Links:\")\n",
    "        for platform, handle in author[\"social\"].items():\n",
    "            print(f\"  • {platform}: {handle}\")\n",
    "else:\n",
    "    print(f\"ℹ️  Author endpoint not available separately\")"
   ]
  },
  {
   "cell_type": "markdown",
   "metadata": {},
   "source": [
    "## Step 7: Test List Posts"
   ]
  },
  {
   "cell_type": "code",
   "execution_count": null,
   "metadata": {},
   "outputs": [],
   "source": "print(\"\\n📚 Testing list posts...\\n\")\n\nresponse = client.call_method(\"blog.list_posts\", {\"limit\": 3})\n\nif \"result\" in response:\n    result = response[\"result\"]\n    posts = result.get(\"posts\", [])\n    print(f\"✅ Found {len(posts)} posts\\n\")\n    \n    if posts:\n        for i, post in enumerate(posts, 1):\n            print(f\"{i}. {post.get('title', 'N/A')}\")\n            print(f\"   Date: {post.get('date', 'N/A')[:10]}\")\n            print(f\"   ID: {post.get('id', 'N/A')}\")\n            print()\n    else:\n        print(\"ℹ️  No posts returned (empty blog or response issue)\")\nelse:\n    print(f\"❌ Error: {response.get('error', 'Unknown error')}\")"
  },
  {
   "cell_type": "markdown",
   "metadata": {},
   "source": [
    "## Step 8: Test Search"
   ]
  },
  {
   "cell_type": "code",
   "execution_count": null,
   "metadata": {},
   "outputs": [],
   "source": [
    "print(\"\\n🔍 Testing search...\\n\")\n",
    "\n",
    "response = client.call_method(\"blog.search_posts\", {\"query\": \"AI\", \"limit\": 3})\n",
    "\n",
    "if \"result\" in response:\n",
    "    result = response[\"result\"]\n",
    "    posts = result.get(\"posts\", [])\n",
    "    print(f\"✅ Found {len(posts)} posts matching 'AI'\\n\")\n",
    "    \n",
    "    if posts:\n",
    "        for post in posts:\n",
    "            print(f\"• {post.get('title', 'N/A')}\")\n",
    "else:\n",
    "    print(f\"❌ Error: {response.get('error', 'Unknown error')}\")"
   ]
  },
  {
   "cell_type": "markdown",
   "metadata": {},
   "source": [
    "## Step 9: Test Additional Methods"
   ]
  },
  {
   "cell_type": "code",
   "execution_count": null,
   "metadata": {},
   "outputs": [],
   "source": "print(\"\\n🧪 Testing all blog methods...\\n\")\n\n# Test blog.get_post with a real post slug\nprint(\"📖 Testing blog.get_post...\")\n# First get a post slug from list_posts\nlist_response = client.call_method(\"blog.list_posts\", {\"limit\": 1})\nif \"result\" in list_response and \"posts\" in list_response[\"result\"] and list_response[\"result\"][\"posts\"]:\n    first_post = list_response[\"result\"][\"posts\"][0]\n    post_slug = first_post.get(\"slug\", first_post.get(\"id\"))\n    \n    # Now fetch the full post\n    post_response = client.call_method(\"blog.get_post\", {\"slug\": post_slug})\n    if \"result\" in post_response:\n        post = post_response[\"result\"]\n        print(f\"✅ Successfully fetched post: {post.get('title', 'N/A')}\")\n        print(f\"   - Content length: {len(post.get('content', ''))} characters\")\n        print(f\"   - Has metadata: {'_a2a' in post}\")\n    else:\n        print(f\"❌ Error fetching post: {post_response.get('error', 'Unknown')}\")\nelse:\n    print(\"❌ Could not get a post slug to test with\")\n\n# Test search with tags\nprint(\"\\n🏷️  Testing search with tags...\")\ntag_search = client.call_method(\"blog.search_posts\", {\"tags\": [\"AI\"], \"limit\": 2})\nif \"result\" in tag_search and \"posts\" in tag_search[\"result\"]:\n    posts = tag_search[\"result\"][\"posts\"]\n    print(f\"✅ Found {len(posts)} posts with tag 'AI'\")\n    for post in posts:\n        print(f\"   • {post.get('title', 'N/A')}\")\nelse:\n    print(\"❌ Tag search not working or no posts with AI tag\")\n\n# Test pagination\nprint(\"\\n📄 Testing pagination...\")\npage1 = client.call_method(\"blog.list_posts\", {\"limit\": 2, \"offset\": 0})\npage2 = client.call_method(\"blog.list_posts\", {\"limit\": 2, \"offset\": 2})\n\nif \"result\" in page1 and \"result\" in page2:\n    if \"posts\" in page1[\"result\"] and \"posts\" in page2[\"result\"]:\n        p1_posts = page1[\"result\"][\"posts\"]\n        p2_posts = page2[\"result\"][\"posts\"]\n        \n        if p1_posts and p2_posts and p1_posts[0][\"id\"] != p2_posts[0][\"id\"]:\n            print(\"✅ Pagination works correctly\")\n            print(f\"   - Page 1: {p1_posts[0]['title'][:40]}...\")\n            print(f\"   - Page 2: {p2_posts[0]['title'][:40]}...\")\n        else:\n            print(\"⚠️  Pagination might not be working correctly\")\n    else:\n        print(\"❌ Response missing posts array\")\nelse:\n    print(\"❌ Pagination test failed\")\n\n# Show endpoint usage summary\nif client.service_endpoints:\n    print(\"\\n📊 Endpoint Usage Summary:\")\n    print(\"This site uses individual endpoints for each method:\")\n    methods_tested = [\"blog.list_posts\", \"blog.get_post\", \"blog.search_posts\", \n                      \"blog.get_metadata\", \"blog.get_author_info\"]\n    for method in methods_tested:\n        if method in client.service_endpoints:\n            print(f\"   ✅ {method} → {client.service_endpoints[method]}\")\n        else:\n            print(f\"   ❌ {method} (not mapped)\")"
  },
  {
   "cell_type": "markdown",
   "metadata": {},
   "source": [
    "## Step 10: Performance Test"
   ]
  },
  {
   "cell_type": "code",
   "execution_count": null,
   "metadata": {},
   "outputs": [],
   "source": [
    "print(\"\\n⚡ Running performance test...\\n\")\n",
    "\n",
    "methods = [\n",
    "    (\"blog.get_metadata\", None),\n",
    "    (\"blog.list_posts\", {\"limit\": 10}),\n",
    "    (\"blog.get_author_info\", None),\n",
    "]\n",
    "\n",
    "for method, params in methods:\n",
    "    times = []\n",
    "    \n",
    "    for _ in range(3):\n",
    "        start = time.time()\n",
    "        client.call_method(method, params)\n",
    "        elapsed = (time.time() - start) * 1000\n",
    "        times.append(elapsed)\n",
    "        time.sleep(0.1)\n",
    "    \n",
    "    avg_time = sum(times) / len(times)\n",
    "    print(f\"{method}: {avg_time:.1f}ms avg\")"
   ]
  },
  {
   "cell_type": "markdown",
   "metadata": {},
   "source": [
    "## Step 11: Generate Report"
   ]
  },
  {
   "cell_type": "code",
   "execution_count": null,
   "metadata": {},
   "outputs": [],
   "source": "print(\"\\n\" + \"=\"*50)\nprint(\"A2A IMPLEMENTATION REPORT\")\nprint(\"=\"*50)\nprint(f\"Site: {SITE_URL}\")\nprint(f\"Date: {datetime.now().strftime('%Y-%m-%d %H:%M:%S')}\")\nprint()\n\n# Test all features\nfeatures = {\n    \"Agent Card\": \"error\" not in client.get_agent_card(),\n    \"Blog Metadata\": \"result\" in client.call_method(\"blog.get_metadata\"),\n    \"Author Info\": \"result\" in client.call_method(\"blog.get_author_info\"),\n    \"List Posts\": False,  # Will test below\n    \"Get Post\": False,  # Will test below\n    \"Search\": False,  # Will test below\n    \"Multi-endpoint Setup\": client.service_endpoints is not None,\n}\n\n# Test list posts\nlist_resp = client.call_method(\"blog.list_posts\", {\"limit\": 1})\nif \"result\" in list_resp and \"posts\" in list_resp[\"result\"]:\n    features[\"List Posts\"] = True\n    \n    # Test get_post with a real slug if we have posts\n    if list_resp[\"result\"][\"posts\"]:\n        slug = list_resp[\"result\"][\"posts\"][0].get(\"slug\", list_resp[\"result\"][\"posts\"][0].get(\"id\"))\n        if slug:\n            features[\"Get Post\"] = \"result\" in client.call_method(\"blog.get_post\", {\"slug\": slug})\n\n# Test search\nsearch_resp = client.call_method(\"blog.search_posts\", {\"query\": \"test\"})\nif \"result\" in search_resp and \"posts\" in search_resp[\"result\"]:\n    features[\"Search\"] = True\n\nprint(\"Feature Status:\")\nfor feature, status in features.items():\n    print(f\"  {'✅' if status else '❌'} {feature}\")\n\n# Check endpoint configuration\nif client.service_endpoints:\n    print(f\"\\n🔌 Multi-endpoint Configuration:\")\n    print(f\"  Total endpoints defined: {len(client.service_endpoints)}\")\n    \n    # Expected endpoints for our implementation\n    expected_endpoints = {\n        \"blog.list_posts\": \"/api/a2a/blog/list\",\n        \"blog.get_post\": \"/api/a2a/blog/get\",\n        \"blog.search_posts\": \"/api/a2a/blog/search\",\n        \"blog.get_metadata\": \"/api/a2a/blog/metadata\",\n        \"blog.get_author_info\": \"/api/a2a/blog/author\"\n    }\n    \n    missing_endpoints = []\n    for method, endpoint in expected_endpoints.items():\n        if method not in client.service_endpoints:\n            missing_endpoints.append(method)\n        elif client.service_endpoints[method] != endpoint:\n            print(f\"  ⚠️  {method} has unexpected endpoint: {client.service_endpoints[method]}\")\n    \n    if missing_endpoints:\n        print(f\"  ❌ Missing endpoints: {', '.join(missing_endpoints)}\")\n    else:\n        print(\"  ✅ All expected endpoints are properly mapped\")\nelse:\n    print(\"\\n⚠️  Single endpoint configuration (legacy)\")\n\n# Calculate score\nscore = sum(features.values()) / len(features) * 100\nprint(f\"\\nImplementation Score: {score:.0f}%\")\n\nif score == 100:\n    print(\"\\n🎉 Your A2A implementation is complete and using the latest multi-endpoint architecture!\")\nelif score >= 85:\n    print(\"\\n👍 Excellent! Your implementation is nearly complete.\")\nelif score >= 70:\n    print(\"\\n👍 Good progress! Most features are working.\")\nelse:\n    print(\"\\n🚧 Implementation needs work. Check the missing features above.\")\n\n# Additional recommendations\nprint(\"\\n📋 Recommendations:\")\nif not client.service_endpoints:\n    print(\"  • Consider upgrading to multi-endpoint setup for better performance\")\n    print(\"  • Add serviceEndpoints mapping to your agent card\")\n    \nif not features[\"Get Post\"]:\n    print(\"  • Ensure blog.get_post endpoint accepts 'slug' parameter\")\n    \nif not features[\"Search\"]:\n    print(\"  • Implement search functionality with query and tag support\")\n\nprint(\"\\n🔗 Useful Links:\")\nprint(\"  • A2A Protocol Spec: https://github.com/colinmcnamara/agent-to-agent-protocol\")\nprint(\"  • Implementation Guide: ./a2a-implementation-guide.md\")\nprint(\"  • Testing Guide: ./a2a-testing-guide.md\")"
  },
  {
   "cell_type": "markdown",
   "metadata": {},
   "source": [
    "## Next Steps\n",
    "\n",
    "1. If using your own site and tests fail:\n",
    "   - Ensure agent card exists at `/.well-known/agent.json`\n",
    "   - Verify API endpoint at `/api/a2a/service` or individual endpoints\n",
    "   - Check CORS headers are set\n",
    "\n",
    "2. For full implementation details:\n",
    "   - See [A2A Implementation Guide](./a2a-implementation-guide.md)\n",
    "   - Check [A2A Testing Guide](./a2a-testing-guide.md)\n",
    "\n",
    "3. Test with AI agents:\n",
    "   - Try at [Google AI Studio](https://aistudio.google.com)\n",
    "   - Add your agent card URL"
   ]
  }
 ],
 "metadata": {
  "kernelspec": {
   "display_name": "Python 3",
   "language": "python",
   "name": "python3"
  },
  "language_info": {
   "codemirror_mode": {
    "name": "ipython",
    "version": 3
   },
   "file_extension": ".py",
   "mimetype": "text/x-python",
   "name": "python",
   "nbconvert_exporter": "python",
   "pygments_lexer": "ipython3",
   "version": "3.9.0"
  }
 },
 "nbformat": 4,
 "nbformat_minor": 4
}